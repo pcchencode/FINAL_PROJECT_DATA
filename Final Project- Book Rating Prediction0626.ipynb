{
 "cells": [
  {
   "cell_type": "markdown",
   "metadata": {},
   "source": [
    "# 1. 資料整理"
   ]
  },
  {
   "cell_type": "code",
   "execution_count": 1,
   "metadata": {},
   "outputs": [
    {
     "data": {
      "text/html": [
       "<script>\n",
       "code_show_err=false; \n",
       "function code_toggle_err() {\n",
       " if (code_show_err){\n",
       " $('div.output_stderr').hide();\n",
       " } else {\n",
       " $('div.output_stderr').show();\n",
       " }\n",
       " code_show_err = !code_show_err\n",
       "} \n",
       "$( document ).ready(code_toggle_err);\n",
       "</script>\n",
       "To toggle on/off output_stderr, click <a href=\"javascript:code_toggle_err()\">here</a>."
      ],
      "text/plain": [
       "<IPython.core.display.HTML object>"
      ]
     },
     "execution_count": 1,
     "metadata": {},
     "output_type": "execute_result"
    }
   ],
   "source": [
    "### Importing necessary packages\n",
    "import pandas as pd\n",
    "import matplotlib.pyplot as plt\n",
    "import sklearn.metrics as metrics\n",
    "import numpy as np\n",
    "from sklearn.neighbors import NearestNeighbors\n",
    "from scipy.spatial.distance import correlation\n",
    "from sklearn.metrics.pairwise import pairwise_distances\n",
    "import ipywidgets as widgets\n",
    "from IPython.display import display, clear_output\n",
    "from contextlib import contextmanager\n",
    "import warnings\n",
    "warnings.filterwarnings('ignore')\n",
    "import numpy as np\n",
    "import os, sys\n",
    "import re\n",
    "import seaborn as sns\n",
    "from IPython.display import HTML\n",
    "HTML('''<script>\n",
    "code_show_err=false; \n",
    "function code_toggle_err() {\n",
    " if (code_show_err){\n",
    " $('div.output_stderr').hide();\n",
    " } else {\n",
    " $('div.output_stderr').show();\n",
    " }\n",
    " code_show_err = !code_show_err\n",
    "} \n",
    "$( document ).ready(code_toggle_err);\n",
    "</script>\n",
    "To toggle on/off output_stderr, click <a href=\"javascript:code_toggle_err()\">here</a>.''')"
   ]
  },
  {
   "cell_type": "code",
   "execution_count": 2,
   "metadata": {},
   "outputs": [
    {
     "name": "stderr",
     "output_type": "stream",
     "text": [
      "b'Skipping line 7842: expected 9 fields, saw 12\\n'\n",
      "b'Skipping line 70346: expected 9 fields, saw 14\\n'\n",
      "b'Skipping line 135984: expected 9 fields, saw 19\\nSkipping line 189418: expected 9 fields, saw 16\\n'\n",
      "b'Skipping line 214386: expected 9 fields, saw 17\\n'\n"
     ]
    }
   ],
   "source": [
    "### Loading data\n",
    "books = pd.read_csv('books.csv', error_bad_lines=False, encoding=\"latin-1\")\n",
    "books.columns = ['ISBN', 'bookTitle', 'bookAuthor', 'yearOfPublication', 'publisher', \n",
    "                 'imageUrlS', 'imageUrlM', 'imageUrlL','Book-Description'] # rename the column if you want\n",
    "users = pd.read_csv('users.csv', error_bad_lines=False, encoding=\"latin-1\")\n",
    "users.columns = ['userID', 'Location', 'Age']\n",
    "ratings = pd.read_csv('book_ratings_train.csv', error_bad_lines=False, encoding=\"latin-1\")\n",
    "ratings.columns = [ 'userID','ISBN', 'bookRating']\n",
    "\n",
    "# dropping last three columns containing image URLs which will not be required for analysis\n",
    "books.drop(['imageUrlS', 'imageUrlM', 'imageUrlL'],axis=1,inplace=True)\n",
    "\n",
    "# making this setting to display full text in columns\n",
    "pd.set_option('display.max_colwidth', -1)\n",
    "\n",
    "#books.head() # check the dataframe if you want\n",
    "#users.head() # check the dataframe if you want"
   ]
  },
  {
   "cell_type": "markdown",
   "metadata": {},
   "source": [
    "## Book Data\n",
    "### year of publication"
   ]
  },
  {
   "cell_type": "code",
   "execution_count": 3,
   "metadata": {
    "collapsed": true
   },
   "outputs": [],
   "source": [
    "#yearOfPublication should be set as having dtype as integer\n",
    "#checking the unique values of yearOfPublication\n",
    "books.yearOfPublication.unique()\n",
    "\n",
    "#as it can be seen from below that there are some incorrect entries in this field. It looks like Publisher names \n",
    "#'DK Publishing Inc' and 'Gallimard' have been incorrectly loaded as yearOfPublication in dataset due to some errors in csv file\n",
    "#Also some of the entries are strings and same years have been entered as numbers in some places\n",
    "\n",
    "# Correcting the dtypes of yearOfPublication\n",
    "books.yearOfPublication=pd.to_numeric(books.yearOfPublication, errors='coerce')\n",
    "\n",
    "# Now it can be seen that yearOfPublication has all values as integers, so it can be sorted\n",
    "sorted(books['yearOfPublication'].unique())\n",
    "\n",
    "#However, the value 0 is invalid and as this dataset was published in 2004, I have assumed the the years after 2006 to be \n",
    "#invalid keeping some margin in case dataset was updated thereafer\n",
    "#setting invalid years as NaN\n",
    "books.loc[(books.yearOfPublication > 2006) | (books.yearOfPublication == 0),'yearOfPublication'] = np.NAN\n",
    "\n",
    "#replacing NaNs with mean value of yearOfPublication\n",
    "books.yearOfPublication.fillna(round(books.yearOfPublication.mean()), inplace=True)\n",
    "\n",
    "#rechecking\n",
    "books.yearOfPublication.isnull().sum()\n",
    "#No NaNs\n",
    "\n",
    "#resetting the dtype as int32\n",
    "books.yearOfPublication = books.yearOfPublication.astype(np.int32)"
   ]
  },
  {
   "cell_type": "markdown",
   "metadata": {},
   "source": [
    "### publisher"
   ]
  },
  {
   "cell_type": "code",
   "execution_count": 4,
   "metadata": {
    "collapsed": true
   },
   "outputs": [],
   "source": [
    "#exploring 'publisher' column\n",
    "books.loc[books.publisher.isnull(),:]\n",
    "#two NaNs\n",
    "#investigating rows having NaNs\n",
    "#Checking with rows having bookTitle as Tyrant Moon to see if we can get any clues\n",
    "books.loc[(books.bookTitle == 'Tyrant Moon'),:]\n",
    "#no clues\n",
    "\n",
    "#Checking with rows having bookTitle as Finder Keepers to see if we can get any clues\n",
    "books.loc[(books.bookTitle == 'Finders Keepers'),:]\n",
    "#all rows with different publisher and bookAuthor\n",
    "\n",
    "#checking by bookAuthor to find patterns\n",
    "books.loc[(books.bookAuthor == 'Elaine Corvidae'),:]\n",
    "#all having different publisher...no clues here\n",
    "\n",
    "#checking by bookAuthor to find patterns\n",
    "books.loc[(books.bookAuthor == 'Linnea Sinclair'),:]\n",
    "\n",
    "#since there is nothing in common to infer publisher for NaNs, replacing these with 'other\n",
    "books.loc[(books.ISBN == '193169656X'),'publisher'] = 'other'\n",
    "books.loc[(books.ISBN == '1931696993'),'publisher'] = 'other'"
   ]
  },
  {
   "cell_type": "markdown",
   "metadata": {},
   "source": [
    "## Users Data\n",
    "### userID"
   ]
  },
  {
   "cell_type": "code",
   "execution_count": 5,
   "metadata": {},
   "outputs": [
    {
     "data": {
      "text/plain": [
       "array(['7c9fa136d4', 'd86e8112f3', '35be322d09', ..., '525b74f9cf',\n",
       "       '1fe052a9d0', '514d852b64'], dtype=object)"
      ]
     },
     "execution_count": 5,
     "metadata": {},
     "output_type": "execute_result"
    }
   ],
   "source": [
    "#users.head() # check the dataframe if you want\n",
    "#users.dtypes\n",
    "\n",
    "users.userID.values #it can be seen that these are unique"
   ]
  },
  {
   "cell_type": "markdown",
   "metadata": {},
   "source": [
    "###  Location"
   ]
  },
  {
   "cell_type": "code",
   "execution_count": 6,
   "metadata": {
    "collapsed": true
   },
   "outputs": [],
   "source": [
    "#users.Location.head() # check the dataframe if you want\n",
    "users = pd.read_csv('users.csv', error_bad_lines=False, encoding=\"latin-1\")\n",
    "users.columns = ['userID', 'Location', 'Age'] \n",
    "\n",
    "# extract the country info. from Location variable\n",
    "users['Country'] = users['Location'].str.split(',').str[2] \n",
    "\n",
    "# since the extracted result contain many mistakes, we should modify it manually....\n",
    "users.loc[(users.Country==' n/a')|(users.Country==' x')|(users.Country==' n/a - on the road')|\n",
    "          (users.Country==' far away...')|(users.Country==' &#20013;&#22269;')|(users.Country==' \\\"n/a\\\"\"')|\n",
    "          (users.Country=='\"')|(users.Country==' ```n/a``')|(users.Country==' \\n/a\\\"')|\n",
    "          (users.Country==' *'),'Country']=' '\n",
    "users.loc[(users.Country ==' austria\"')|(users.Country=='austria'),'Country']=' austria'\n",
    "users.loc[users.Country ==' spain\"','Country']=' spain'\n",
    "users.loc[(users.Country ==' italia')|(users.Country==' italy'),'Country']=' italy'\n",
    "users.loc[users.Country ==' portugal\"','Country']=' portugal'\n",
    "users.loc[users.Country ==' switzerland\"','Country']=' switzerland'\n",
    "users.loc[(users.Country ==' united kingdom\"')|(users.Country==' united kindgom')|\n",
    "          (users.Country==' u.k.')|(users.Country==' england'),'Country']=' united kingdom'\n",
    "users.loc[(users.Country ==' us')|(users.Country==' us>')|(users.Country==' u.s.a.')|(users.Country==' u.s. of a.')|\n",
    "          (users.Country==' united state')|(users.Country==' united states')|(users.Country==' united states of america'),'Country']=' usa'\n",
    "users.loc[users.Country ==' netherlands\"','Country']=' netherlands'\n",
    "users.loc[users.Country ==' new zealand\"','Country']=' new zealand'\n",
    "users.loc[users.Country ==' germany\"','Country']=' germany'\n",
    "users.loc[users.Country ==' cananda\"','Country']=' canada'\n",
    "users.loc[users.Country ==' france\"','Country']=' france'\n",
    "users.loc[users.Country ==' denmark\"','Country']=' denmark'\n",
    "users.loc[users.Country ==' greece\"','Country']=' greece'\n",
    "users.loc[users.Country ==' _ brasil','Country']=' brazil'\n",
    "users.loc[users.Country ==' ireland\"','Country']=' ireland'\n",
    "users.loc[users.Country ==' norway\"','Country']=' norway'\n",
    "users.loc[(users.Country =='  philippines\"')|(users.Country==' phillipines'),'Country']=' philippines'\n",
    "users.loc[users.Country ==' sweden\"','Country']=' sweden'\n",
    "countryCount=users.groupby('Country')['Country'].agg(['count'])\n",
    "countryCount['Country']=countryCount.index # re-index so as to merge with user data\n",
    "users=users.merge(countryCount,left_on='Country',right_on='Country',how='left')\n",
    "users.count=users[\"count\"].astype(np.float64)\n",
    "users.loc[users.count<60 ,'Country']=' others' \n",
    "# we set the count of Taiwan=60 as the lower bound, if the count of country is lower than 60, considering it as the country label \"others\"\n",
    "users.drop(['count'],axis=1,inplace=True)\n",
    "\n",
    "# one-hot code for the country\n",
    "users = pd.get_dummies(users, columns=['Country'])\n",
    "\n",
    "#user.head() # check the dataframe if you want"
   ]
  },
  {
   "cell_type": "markdown",
   "metadata": {},
   "source": [
    "### Age"
   ]
  },
  {
   "cell_type": "code",
   "execution_count": 7,
   "metadata": {},
   "outputs": [
    {
     "name": "stdout",
     "output_type": "stream",
     "text": [
      "[nan, 0.0, 1.0, 2.0, 3.0, 4.0, 5.0, 6.0, 7.0, 8.0, 9.0, 10.0, 11.0, 12.0, 13.0, 14.0, 15.0, 16.0, 17.0, 18.0, 19.0, 20.0, 21.0, 22.0, 23.0, 24.0, 25.0, 26.0, 27.0, 28.0, 29.0, 30.0, 31.0, 32.0, 33.0, 34.0, 35.0, 36.0, 37.0, 38.0, 39.0, 40.0, 41.0, 42.0, 43.0, 44.0, 45.0, 46.0, 47.0, 48.0, 49.0, 50.0, 51.0, 52.0, 53.0, 54.0, 55.0, 56.0, 57.0, 58.0, 59.0, 60.0, 61.0, 62.0, 63.0, 64.0, 65.0, 66.0, 67.0, 68.0, 69.0, 70.0, 71.0, 72.0, 73.0, 74.0, 75.0, 76.0, 77.0, 78.0, 79.0, 80.0, 81.0, 82.0, 83.0, 84.0, 85.0, 86.0, 87.0, 88.0, 89.0, 90.0, 91.0, 92.0, 93.0, 94.0, 95.0, 96.0, 97.0, 98.0, 99.0, 100.0, 101.0, 102.0, 103.0, 104.0, 105.0, 106.0, 107.0, 108.0, 109.0, 110.0, 111.0, 113.0, 114.0, 115.0, 116.0, 118.0, 119.0, 123.0, 124.0, 127.0, 128.0, 132.0, 133.0, 136.0, 137.0, 138.0, 140.0, 141.0, 143.0, 146.0, 147.0, 148.0, 151.0, 152.0, 156.0, 157.0, 159.0, 162.0, 168.0, 172.0, 175.0, 183.0, 186.0, 189.0, 199.0, 200.0, 201.0, 204.0, 207.0, 208.0, 209.0, 210.0, 212.0, 219.0, 220.0, 223.0, 226.0, 228.0, 229.0, 230.0, 231.0, 237.0, 239.0, 244.0]\n"
     ]
    }
   ],
   "source": [
    "print (sorted(users.Age.unique()))\n",
    "#Age column has some invalid entries like nan, 0 and very high values like 100 and above\n",
    "\n",
    "#In my view values below 5 and above 90 do not make much sense for our book rating case...hence replacing these by NaNs\n",
    "users.loc[(users.Age > 90) | (users.Age < 5), 'Age'] = np.nan\n",
    "\n",
    "# Create the age group\n",
    "users['AgeGroup']=''\n",
    "users.loc[(users.Age <=20) , 'AgeGroup'] = 'below20'\n",
    "users.loc[(users.Age >20) & (users.Age<=30) , 'AgeGroup'] = '21~30'\n",
    "users.loc[(users.Age >30) & (users.Age<=40) , 'AgeGroup'] = '31~40'\n",
    "users.loc[(users.Age >40) & (users.Age<=50) , 'AgeGroup'] = '41~50'\n",
    "users.loc[(users.Age >50) & (users.Age<=60) , 'AgeGroup'] = '51~60'\n",
    "users.loc[(users.Age >60) & (users.Age<=70) , 'AgeGroup'] = '61~70'\n",
    "users.loc[(users.Age >70) & (users.Age<=80) , 'AgeGroup'] = '71~80'\n",
    "users.loc[(users.Age >80) , 'AgeGroup'] = '80up'\n",
    "users.loc[(users.AgeGroup=='') , 'AgeGroup'] = 'unknown'\n",
    "users = pd.get_dummies(users, columns=['AgeGroup'])\n",
    "\n",
    "#replacing NaNs with mean\n",
    "users.Age = users.Age.fillna(users.Age.mean())\n",
    "\n",
    "#setting the data type as int\n",
    "users.Age = users.Age.astype(np.int32)"
   ]
  },
  {
   "cell_type": "markdown",
   "metadata": {},
   "source": [
    "## Ratings Dataset"
   ]
  },
  {
   "cell_type": "code",
   "execution_count": 8,
   "metadata": {},
   "outputs": [
    {
     "name": "stdout",
     "output_type": "stream",
     "text": [
      "75676484040\n",
      "(260202, 3)\n",
      "(260202, 3)\n",
      "(260202, 3)\n",
      "(260202, 3)\n",
      "number of users: 278858\n",
      "number of books: 271380\n",
      "(260202, 3)\n",
      "(260202, 3)\n",
      "(0, 3)\n"
     ]
    },
    {
     "data": {
      "image/png": "[encoded data removed]",
      "text/plain": [
       "<matplotlib.figure.Figure at 0x12a3a0208>"
      ]
     },
     "metadata": {},
     "output_type": "display_data"
    },
    {
     "name": "stdout",
     "output_type": "stream",
     "text": [
      "Following books are recommended\n"
     ]
    }
   ],
   "source": [
    "#checking shape\n",
    "ratings = pd.read_csv('book_ratings_train.csv', error_bad_lines=False, encoding=\"latin-1\")\n",
    "ratings.columns = [ 'userID','ISBN', 'bookRating']\n",
    "ratings.shape\n",
    "\n",
    "#ratings dataset will have n_users*n_books entries if every user rated every item, this shows that the dataset is very sparse\n",
    "n_users = users.shape[0]\n",
    "n_books = books.shape[0]\n",
    "print (n_users * n_books)\n",
    "\n",
    "#checking first few rows...\n",
    "ratings.head(5)\n",
    "\n",
    "ratings.bookRating.unique()\n",
    "\n",
    "#ratings dataset should have books only which exist in our books dataset, unless new books are added to books dataset\n",
    "#ratings_new = ratings[ratings.ISBN.isin(books.ISBN)]\n",
    "ratings_new = ratings\n",
    "\n",
    "print (ratings.shape)\n",
    "print (ratings_new.shape)\n",
    "#it can be seen that many rows having book ISBN not part of books dataset got dropped off\n",
    "\n",
    "#ratings dataset should have ratings from users which exist in users dataset, unless new users are added to users dataset\n",
    "ratings = ratings[ratings.userID.isin(users.userID)]\n",
    "\n",
    "print (ratings.shape)\n",
    "print (ratings_new.shape)\n",
    "#no new users added, hence we will go with above dataset ratings_new (1031136, 3)\n",
    "\n",
    "print (\"number of users: \" + str(n_users))\n",
    "print (\"number of books: \" + str(n_books))\n",
    "\n",
    "#Sparsity of dataset in %\n",
    "sparsity=1.0-len(ratings_new)/float(n_users*n_books)\n",
    "sparsity\n",
    "\n",
    "#As quoted in the description of the dataset -\n",
    "#BX-Book-Ratings contains the book rating information. Ratings are either explicit, expressed on a scale from 1-10 \n",
    "#higher values denoting higher appreciation, or implicit, expressed by 0\n",
    "ratings.bookRating.unique()\n",
    "\n",
    "#Hence segragating implicit and explict ratings datasets\n",
    "ratings_explicit = ratings_new[ratings_new.bookRating != 0]\n",
    "ratings_implicit = ratings_new[ratings_new.bookRating == 0]\n",
    "\n",
    "#checking shapes\n",
    "print (ratings_new.shape)\n",
    "print (ratings_explicit.shape)\n",
    "print (ratings_implicit.shape)\n",
    "\n",
    "#plotting count of bookRating\n",
    "sns.countplot(data=ratings_explicit , x='bookRating')\n",
    "plt.show()\n",
    "#It can be seen that higher ratings are more common amongst users and rating 8 has been rated highest number of times\n",
    "\n",
    "ratings_explicit.describe()\n",
    "\n",
    "#At this point , a simple popularity based recommendation system can be built based on count of user ratings for different books\n",
    "ratings_count = pd.DataFrame(ratings_explicit.groupby(['ISBN'])['bookRating'].sum())\n",
    "top10 = ratings_count.sort_values('bookRating', ascending = False).head(10)\n",
    "print (\"Following books are recommended\")\n",
    "top10.merge(books, left_index = True, right_on = 'ISBN')\n",
    "\n",
    "#Given below are top 10 recommendations based on popularity. It is evident that books authored by J.K. Rowling are most popular\n",
    "\n",
    "#Similarly segregating users who have given explicit ratings from 1-10 and those whose implicit behavior was tracked\n",
    "users_exp_ratings = users[users.userID.isin(ratings_explicit.userID)]\n",
    "users_imp_ratings = users[users.userID.isin(ratings_implicit.userID)]"
   ]
  },
  {
   "cell_type": "markdown",
   "metadata": {},
   "source": [
    "# 2. 模型分析\n",
    "## 輸入資料處理"
   ]
  },
  {
   "cell_type": "code",
   "execution_count": 9,
   "metadata": {
    "collapsed": true
   },
   "outputs": [],
   "source": [
    "imp_ratings = pd.read_csv('implicit_ratings.csv', error_bad_lines=False, encoding=\"latin-1\")\n",
    "imp_ratings.columns = [ 'bookRating','ISBN','userID']\n",
    "#imp_ratings.head() # check the dataframe if you want\n",
    "\n",
    "# load the test data\n",
    "test_data = pd.read_csv('book_ratings_test.csv', error_bad_lines=False, encoding=\"latin-1\")\n",
    "test_data.columns = ['userID','ISBN']\n",
    "#test_data.head() # check the data if you want\n"
   ]
  },
  {
   "cell_type": "code",
   "execution_count": 10,
   "metadata": {},
   "outputs": [
    {
     "data": {
      "text/plain": [
       "(141234, 2)"
      ]
     },
     "execution_count": 10,
     "metadata": {},
     "output_type": "execute_result"
    }
   ],
   "source": [
    "test_new = test_data[test_data.ISBN.isin(books.ISBN)]\n",
    "test_new.shape\n",
    "a =  test_data.ISBN.isin(books.ISBN)\n",
    "b= [not c for c in a]\n",
    "\n",
    "test_new2 = test_data[b]\n",
    "test_new2.shape"
   ]
  },
  {
   "cell_type": "code",
   "execution_count": 11,
   "metadata": {
    "collapsed": true
   },
   "outputs": [],
   "source": [
    "# caculate mean, standard error and number of rating, grouped by users and books\n",
    "bookMeanRate=ratings_explicit.groupby('ISBN')['bookRating'].agg(['mean','std','count'])\n",
    "bookMeanRate['ISBN']=bookMeanRate.index # re-index it so as to megre with user data\n",
    "userMeanRate=ratings_explicit.groupby('userID')['bookRating'].agg(['mean','std','count'])\n",
    "userMeanRate['userID']=userMeanRate.index # re-index it so as to merge with book data"
   ]
  },
  {
   "cell_type": "code",
   "execution_count": 12,
   "metadata": {
    "collapsed": true
   },
   "outputs": [],
   "source": [
    "# clculate the number of implicit rating, grouped by users and books \n",
    "userImpMeanRate=imp_ratings.groupby('userID')['bookRating'].agg(['mean','std','count'])\n",
    "userImpMeanRate.drop(['mean', 'std'],axis=1,inplace=True)\n",
    "userImpMeanRate.columns = [ 'NumOfImp']\n",
    "userImpMeanRate['userID']=userImpMeanRate.index # re-index it so as to megre with user data\n",
    "#userImpMeanRate.head() # check the dataframe if you want\n",
    "bookImpMeanRate=imp_ratings.groupby('ISBN')['bookRating'].agg(['mean','std','count'])\n",
    "bookImpMeanRate.drop(['mean', 'std'],axis=1,inplace=True)\n",
    "bookImpMeanRate.columns = [ 'NumOfImp']\n",
    "bookImpMeanRate.head()\n",
    "bookImpMeanRate['ISBN']=bookImpMeanRate.index # re-index it so as to merge with book data\n",
    "#bookImpMeanRate.head()"
   ]
  },
  {
   "cell_type": "code",
   "execution_count": 13,
   "metadata": {
    "collapsed": true
   },
   "outputs": [],
   "source": [
    "# merge with users and books data\n",
    "new_users=users.merge(userMeanRate,left_on='userID',right_on='userID',how='left')\n",
    "new_books=books.merge(bookMeanRate,left_on='ISBN',right_on='ISBN',how='left')\n",
    "new_users=new_users.merge(userImpMeanRate,left_on='userID',right_on='userID',how='left')\n",
    "new_books=new_books.merge(bookImpMeanRate,left_on='ISBN',right_on='ISBN',how='left')"
   ]
  },
  {
   "cell_type": "code",
   "execution_count": 14,
   "metadata": {
    "collapsed": true
   },
   "outputs": [],
   "source": [
    "# upadted our dataset by data crawled by kuo\n",
    "# this part is not allowed in the spec. actually\n",
    "books_updated = pd.read_csv('books_final.csv', error_bad_lines=False, encoding=\"latin-1\")\n",
    "books_updated.drop(['Unnamed: 0', 'publisher'],axis=1,inplace=True)\n",
    "books_updated.rename(columns={'yearOfPublication': 'YearPubNew', 'decriptionLen': 'DecrLenNew'}, inplace=True)\n",
    "books_updated['form'] = books_updated.form.replace(np.NaN, 'unknown')\n",
    "books_updated['shelve1'] = books_updated.shelve1.replace(np.NaN, 'unknown')\n",
    "books_updated=books_updated.drop_duplicates(['ISBN'], keep='first')\n",
    "new_books=new_books.merge(books_updated,left_on='ISBN',right_on='ISBN',how='left')\n",
    "\n",
    "#books_updated.head() # check the dataframe if you want\n",
    "\n"
   ]
  },
  {
   "cell_type": "markdown",
   "metadata": {},
   "source": [
    "### Length of Decription"
   ]
  },
  {
   "cell_type": "code",
   "execution_count": 15,
   "metadata": {
    "collapsed": true
   },
   "outputs": [],
   "source": [
    "description_words=new_books['Book-Description'].str.split()\n",
    "description_words = pd.DataFrame(description_words)\n",
    "#description_words.head()\n",
    "new_books['decriptionLen']=description_words['Book-Description'].str.len()\n"
   ]
  },
  {
   "cell_type": "code",
   "execution_count": 16,
   "metadata": {
    "collapsed": true
   },
   "outputs": [],
   "source": [
    "# update the data\n",
    "new_books.loc[(new_books.yearOfPublication==np.NaN) | (new_books.yearOfPublication==None), 'yearOfPublication'] = new_books.YearPubNew\n",
    "new_books.loc[new_books.decriptionLen==np.NaN, 'decriptionLen'] = new_books.DecrLenNew\n",
    "new_books.drop(['YearPubNew', 'DecrLenNew'],axis=1,inplace=True)\n",
    "new_books = pd.get_dummies(new_books, columns=['form'])\n",
    "new_books = pd.get_dummies(new_books, columns=['shelve1'])\n",
    "#users.loc[(users.Age >20) & (users.Age<=30) , 'AgeGroup'] = '21~30'"
   ]
  },
  {
   "cell_type": "code",
   "execution_count": 17,
   "metadata": {
    "collapsed": true
   },
   "outputs": [],
   "source": [
    "### merge data to complete the train data\n",
    "#book_feature=['ISBN', 'yearOfPublication', 'mean', 'std', 'count', 'decriptionLen','NumOfImp']\n",
    "book_feature=list(new_books)\n",
    "book_feature.remove('bookTitle')\n",
    "book_feature.remove('bookAuthor')\n",
    "book_feature.remove('Book-Description')\n",
    "\n",
    "user_feature=list(new_users)\n",
    "user_feature.remove('Location')\n",
    "#user_feature=['userID', 'AgeGroup' ,'Age', 'mean', 'std', 'count','NumOfImp','Country']\n",
    "#user_feature=['userID', 'AgeGroup_below20','AgeGroup_21~30','AgeGroup_31~40','AgeGroup_41~50','AgeGroup_51~60','AgeGroup_61~70',\n",
    "#              'AgeGroup_71~80','AgeGroup_80up','AgeGroup_unknown','Age', 'mean', 'std', 'count','NumOfImp']\n",
    "train = ratings_explicit.merge(new_books.loc[:,book_feature],left_on='ISBN',right_on='ISBN',how='left')\n",
    "train = train.merge(new_users.loc[:,user_feature],left_on='userID',right_on='userID',how='left')\n",
    "#train = train[train['count_x'] >= 2] \n",
    "#train = train[train['count_y'] >= 2] \n",
    "#train = train.drop(train.count_y<200, inplace=True, axis=1)\n",
    "\n",
    "#train.head() # check the data if you want"
   ]
  },
  {
   "cell_type": "markdown",
   "metadata": {},
   "source": [
    "# 3. Train Model"
   ]
  },
  {
   "cell_type": "code",
   "execution_count": 19,
   "metadata": {
    "collapsed": true
   },
   "outputs": [],
   "source": [
    "features=list(train)\n",
    "features.remove('userID')\n",
    "features.remove('ISBN')\n",
    "features.remove('bookRating')\n",
    "features.remove('publisher')\n",
    "#features=['yearOfPublication', 'mean_x', 'std_x','count_x', 'decriptionLen', 'Age', 'mean_y', 'std_y', 'count_y', \n",
    "#          'NumOfImp_x', 'NumOfImp_y','AgeGroup_below20','AgeGroup_21~30','AgeGroup_31~40','AgeGroup_41~50','AgeGroup_51~60','AgeGroup_61~70',\n",
    "#              'AgeGroup_71~80','AgeGroup_80up','AgeGroup_unknown']\n",
    "#le = preprocessing.LabelEncoder()\n",
    "#le = le.fit(train.loc[:, 'AgeGroup'])\n",
    "#train_imputed = le.fit_transform(train.loc[:, 'AgeGroup'])\n",
    "\n",
    "imputer = preprocessing.Imputer(missing_values='NaN', strategy='median', axis=0, copy=False)\n",
    "imputer = imputer.fit(train.loc[:, features])\n",
    "train_imputed = imputer.fit_transform(train.loc[:, features])"
   ]
  },
  {
   "cell_type": "code",
   "execution_count": 24,
   "metadata": {},
   "outputs": [
    {
     "data": {
      "text/html": [
       "<div>\n",
       "<style>\n",
       "    .dataframe thead tr:only-child th {\n",
       "        text-align: right;\n",
       "    }\n",
       "\n",
       "    .dataframe thead th {\n",
       "        text-align: left;\n",
       "    }\n",
       "\n",
       "    .dataframe tbody tr th {\n",
       "        vertical-align: top;\n",
       "    }\n",
       "</style>\n",
       "<table border=\"1\" class=\"dataframe\">\n",
       "  <thead>\n",
       "    <tr style=\"text-align: right;\">\n",
       "      <th></th>\n",
       "      <th>userID</th>\n",
       "      <th>ISBN</th>\n",
       "      <th>bookRating</th>\n",
       "      <th>yearOfPublication</th>\n",
       "      <th>publisher</th>\n",
       "      <th>mean_x</th>\n",
       "      <th>std_x</th>\n",
       "      <th>count_x</th>\n",
       "      <th>NumOfImp_x</th>\n",
       "      <th>average_rating</th>\n",
       "      <th>...</th>\n",
       "      <th>AgeGroup_51~60</th>\n",
       "      <th>AgeGroup_61~70</th>\n",
       "      <th>AgeGroup_71~80</th>\n",
       "      <th>AgeGroup_80up</th>\n",
       "      <th>AgeGroup_below20</th>\n",
       "      <th>AgeGroup_unknown</th>\n",
       "      <th>mean_y</th>\n",
       "      <th>std_y</th>\n",
       "      <th>count_y</th>\n",
       "      <th>NumOfImp_y</th>\n",
       "    </tr>\n",
       "  </thead>\n",
       "  <tbody>\n",
       "    <tr>\n",
       "      <th>0</th>\n",
       "      <td>153d612c88</td>\n",
       "      <td>1550372289</td>\n",
       "      <td>8</td>\n",
       "      <td>1992.0</td>\n",
       "      <td>Annick Press</td>\n",
       "      <td>8.0</td>\n",
       "      <td>NaN</td>\n",
       "      <td>1.0</td>\n",
       "      <td>1.0</td>\n",
       "      <td>4.11</td>\n",
       "      <td>...</td>\n",
       "      <td>0</td>\n",
       "      <td>0</td>\n",
       "      <td>0</td>\n",
       "      <td>0</td>\n",
       "      <td>0</td>\n",
       "      <td>0</td>\n",
       "      <td>7.332278</td>\n",
       "      <td>1.179743</td>\n",
       "      <td>632.0</td>\n",
       "      <td>1386.0</td>\n",
       "    </tr>\n",
       "    <tr>\n",
       "      <th>1</th>\n",
       "      <td>f73f18a13a</td>\n",
       "      <td>030796017X</td>\n",
       "      <td>10</td>\n",
       "      <td>2001.0</td>\n",
       "      <td>Golden Books</td>\n",
       "      <td>10.0</td>\n",
       "      <td>NaN</td>\n",
       "      <td>1.0</td>\n",
       "      <td>3.0</td>\n",
       "      <td>4.21</td>\n",
       "      <td>...</td>\n",
       "      <td>0</td>\n",
       "      <td>0</td>\n",
       "      <td>0</td>\n",
       "      <td>0</td>\n",
       "      <td>0</td>\n",
       "      <td>1</td>\n",
       "      <td>7.513514</td>\n",
       "      <td>1.865202</td>\n",
       "      <td>37.0</td>\n",
       "      <td>271.0</td>\n",
       "    </tr>\n",
       "    <tr>\n",
       "      <th>2</th>\n",
       "      <td>02e87fe603</td>\n",
       "      <td>014028009</td>\n",
       "      <td>8</td>\n",
       "      <td>NaN</td>\n",
       "      <td>NaN</td>\n",
       "      <td>NaN</td>\n",
       "      <td>NaN</td>\n",
       "      <td>NaN</td>\n",
       "      <td>NaN</td>\n",
       "      <td>NaN</td>\n",
       "      <td>...</td>\n",
       "      <td>0</td>\n",
       "      <td>0</td>\n",
       "      <td>0</td>\n",
       "      <td>0</td>\n",
       "      <td>0</td>\n",
       "      <td>0</td>\n",
       "      <td>8.500000</td>\n",
       "      <td>0.755929</td>\n",
       "      <td>8.0</td>\n",
       "      <td>1.0</td>\n",
       "    </tr>\n",
       "    <tr>\n",
       "      <th>3</th>\n",
       "      <td>be36e5b8cb</td>\n",
       "      <td>0345413350</td>\n",
       "      <td>10</td>\n",
       "      <td>NaN</td>\n",
       "      <td>NaN</td>\n",
       "      <td>NaN</td>\n",
       "      <td>NaN</td>\n",
       "      <td>NaN</td>\n",
       "      <td>NaN</td>\n",
       "      <td>NaN</td>\n",
       "      <td>...</td>\n",
       "      <td>0</td>\n",
       "      <td>0</td>\n",
       "      <td>0</td>\n",
       "      <td>0</td>\n",
       "      <td>0</td>\n",
       "      <td>1</td>\n",
       "      <td>10.000000</td>\n",
       "      <td>NaN</td>\n",
       "      <td>1.0</td>\n",
       "      <td>3.0</td>\n",
       "    </tr>\n",
       "    <tr>\n",
       "      <th>4</th>\n",
       "      <td>98ec1c54b5</td>\n",
       "      <td>0609600788</td>\n",
       "      <td>9</td>\n",
       "      <td>NaN</td>\n",
       "      <td>NaN</td>\n",
       "      <td>NaN</td>\n",
       "      <td>NaN</td>\n",
       "      <td>NaN</td>\n",
       "      <td>NaN</td>\n",
       "      <td>NaN</td>\n",
       "      <td>...</td>\n",
       "      <td>0</td>\n",
       "      <td>0</td>\n",
       "      <td>0</td>\n",
       "      <td>0</td>\n",
       "      <td>0</td>\n",
       "      <td>0</td>\n",
       "      <td>9.461538</td>\n",
       "      <td>0.776250</td>\n",
       "      <td>13.0</td>\n",
       "      <td>NaN</td>\n",
       "    </tr>\n",
       "  </tbody>\n",
       "</table>\n",
       "<p>5 rows × 172 columns</p>\n",
       "</div>"
      ],
      "text/plain": [
       "       userID        ISBN  bookRating  yearOfPublication     publisher  \\\n",
       "0  153d612c88  1550372289  8           1992.0             Annick Press   \n",
       "1  f73f18a13a  030796017X  10          2001.0             Golden Books   \n",
       "2  02e87fe603  014028009   8          NaN                 NaN            \n",
       "3  be36e5b8cb  0345413350  10         NaN                 NaN            \n",
       "4  98ec1c54b5  0609600788  9          NaN                 NaN            \n",
       "\n",
       "   mean_x  std_x  count_x  NumOfImp_x  average_rating     ...      \\\n",
       "0  8.0    NaN     1.0      1.0         4.11               ...       \n",
       "1  10.0   NaN     1.0      3.0         4.21               ...       \n",
       "2 NaN     NaN    NaN      NaN         NaN                 ...       \n",
       "3 NaN     NaN    NaN      NaN         NaN                 ...       \n",
       "4 NaN     NaN    NaN      NaN         NaN                 ...       \n",
       "\n",
       "   AgeGroup_51~60  AgeGroup_61~70  AgeGroup_71~80  AgeGroup_80up  \\\n",
       "0  0               0               0               0               \n",
       "1  0               0               0               0               \n",
       "2  0               0               0               0               \n",
       "3  0               0               0               0               \n",
       "4  0               0               0               0               \n",
       "\n",
       "   AgeGroup_below20  AgeGroup_unknown     mean_y     std_y  count_y  \\\n",
       "0  0                 0                 7.332278   1.179743  632.0     \n",
       "1  0                 1                 7.513514   1.865202  37.0      \n",
       "2  0                 0                 8.500000   0.755929  8.0       \n",
       "3  0                 1                 10.000000 NaN        1.0       \n",
       "4  0                 0                 9.461538   0.776250  13.0      \n",
       "\n",
       "   NumOfImp_y  \n",
       "0  1386.0      \n",
       "1  271.0       \n",
       "2  1.0         \n",
       "3  3.0         \n",
       "4 NaN          \n",
       "\n",
       "[5 rows x 172 columns]"
      ]
     },
     "execution_count": 24,
     "metadata": {},
     "output_type": "execute_result"
    }
   ],
   "source": [
    "train.head()"
   ]
  },
  {
   "cell_type": "code",
   "execution_count": 18,
   "metadata": {
    "collapsed": true
   },
   "outputs": [],
   "source": [
    "# import the packages\n",
    "from sklearn import preprocessing\n",
    "from sklearn.ensemble import RandomForestClassifier\n",
    "from sklearn.ensemble import RandomForestRegressor\n",
    "from sklearn.model_selection import cross_val_score\n",
    "from sklearn.model_selection import train_test_split\n",
    "from sklearn.ensemble import AdaBoostClassifier"
   ]
  },
  {
   "cell_type": "code",
   "execution_count": 86,
   "metadata": {},
   "outputs": [
    {
     "data": {
      "text/plain": [
       "0.324750192159877"
      ]
     },
     "execution_count": 86,
     "metadata": {},
     "output_type": "execute_result"
    }
   ],
   "source": [
    "# split to train set & validation set\n",
    "x_train,x_test,y_train,y_test = train_test_split(train_imputed,train.loc[:, 'bookRating'],test_size=0.99, random_state=42)\n",
    "\n",
    "\n",
    "rfr = RandomForestRegressor(n_estimators = 1000, random_state = 42,n_jobs=-1,criterion='mae')\n",
    "rf = RandomForestClassifier(n_estimators = 1000, random_state = 42,n_jobs=-1)\n",
    "ada = AdaBoostClassifier(n_estimators = 1000, random_state = 42, )\n",
    "\n",
    "#rf = RandomForestClassifier(n_estimators = 1000, random_state = 42,n_jobs=-1, \n",
    "#                            class_weight={1:1.5, 2:1.5, 3:1, 4:1, 5:1, 6:1, 7:1, 8:1, 9:1, 10:1})\n",
    "# Train the model on training data\n",
    "rfr.fit(x_train, y_train);\n",
    "rfr.score(x_train, y_train)\n",
    "\n",
    "rf.fit(x_train, y_train);\n",
    "rf.score(x_train, y_train)\n",
    "\n",
    "ada.fit(x_train, y_train);\n",
    "ada.score(x_train, y_train)"
   ]
  },
  {
   "cell_type": "code",
   "execution_count": 87,
   "metadata": {},
   "outputs": [
    {
     "data": {
      "text/plain": [
       "0.32777950310559006"
      ]
     },
     "execution_count": 87,
     "metadata": {},
     "output_type": "execute_result"
    }
   ],
   "source": [
    "# performance on the validation set\n",
    "rfr.score(x_test, y_test)\n",
    "rf.score(x_test, y_test)\n",
    "ada.score(x_test, y_test)"
   ]
  },
  {
   "cell_type": "code",
   "execution_count": 88,
   "metadata": {
    "collapsed": true
   },
   "outputs": [],
   "source": [
    "# test data process\n",
    "\n",
    "test = test_data.merge(new_books.loc[:,book_feature],left_on='ISBN',right_on='ISBN',how='left')\n",
    "test = test.merge(new_users.loc[:,user_feature],left_on='userID',right_on='userID',how='left')\n",
    "test_imputed = imputer.fit_transform(test.loc[:, features])\n",
    "\n",
    "#test.head() # check the dataframe if you want"
   ]
  },
  {
   "cell_type": "code",
   "execution_count": 89,
   "metadata": {
    "collapsed": true
   },
   "outputs": [],
   "source": [
    "# test predict: choose one to implement\n",
    "test_data['bookRating']=rfr.predict(test_imputed)\n",
    "test_data['bookRating']=rf.predict(test_imputed)\n",
    "test_data['bookRating']=ada.predict(test_imputed)"
   ]
  },
  {
   "cell_type": "code",
   "execution_count": 90,
   "metadata": {
    "collapsed": true
   },
   "outputs": [],
   "source": [
    "# submission\n",
    "\n",
    "test_data['bookRating']=round(test_data.bookRating)\n",
    "test_data.bookRating=test_data[\"bookRating\"].astype(np.int64)\n",
    "submiss = pd.DataFrame(test_data['bookRating'])\n",
    "submiss.to_csv('submission.csv',header=False,index=False)"
   ]
  },
  {
   "cell_type": "code",
   "execution_count": 91,
   "metadata": {},
   "outputs": [
    {
     "data": {
      "image/png": "[encoded data removed]",
      "text/plain": [
       "<matplotlib.figure.Figure at 0x182fa5ba8>"
      ]
     },
     "metadata": {},
     "output_type": "display_data"
    }
   ],
   "source": [
    "test_data.head() # check the result if you want\n",
    "\n",
    "# plot the predicted result\n",
    "sns.countplot(data=test_data , x='bookRating')\n",
    "plt.show()"
   ]
  },
  {
   "cell_type": "code",
   "execution_count": null,
   "metadata": {
    "collapsed": true
   },
   "outputs": [],
   "source": []
  }
 ],
 "metadata": {
  "kernelspec": {
   "display_name": "Python 3",
   "language": "python",
   "name": "python3"
  },
  "language_info": {
   "codemirror_mode": {
    "name": "ipython",
    "version": 3
   },
   "file_extension": ".py",
   "mimetype": "text/x-python",
   "name": "python",
   "nbconvert_exporter": "python",
   "pygments_lexer": "ipython3",
   "version": "3.6.2"
  }
 },
 "nbformat": 4,
 "nbformat_minor": 2
}
